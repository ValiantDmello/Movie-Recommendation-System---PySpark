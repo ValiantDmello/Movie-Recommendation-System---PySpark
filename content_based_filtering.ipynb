{
  "cells": [
    {
      "cell_type": "code",
      "execution_count": 5,
      "id": "O5GlzG5BE3pd",
      "metadata": {
        "colab": {
          "base_uri": "https://localhost:8080/"
        },
        "id": "O5GlzG5BE3pd",
        "outputId": "b57a61d1-cf6f-49dd-b215-77093527f86b"
      },
      "outputs": [
        {
          "output_type": "stream",
          "name": "stdout",
          "text": [
            "Requirement already satisfied: pyspark in /usr/local/lib/python3.10/dist-packages (3.5.0)\n",
            "Requirement already satisfied: py4j==0.10.9.7 in /usr/local/lib/python3.10/dist-packages (from pyspark) (0.10.9.7)\n"
          ]
        }
      ],
      "source": [
        "!pip install pyspark"
      ]
    },
    {
      "cell_type": "code",
      "execution_count": 6,
      "id": "392a463c",
      "metadata": {
        "id": "392a463c"
      },
      "outputs": [],
      "source": [
        "#import libraries\n",
        "from pyspark.sql import SparkSession\n",
        "from pyspark.sql.types import StructType, StructField, IntegerType, StringType"
      ]
    },
    {
      "cell_type": "code",
      "execution_count": 8,
      "id": "750cc341",
      "metadata": {
        "id": "750cc341"
      },
      "outputs": [],
      "source": [
        "#Spark session\n",
        "spark = SparkSession.builder.appName(\"RecommendationSystem\").getOrCreate()"
      ]
    },
    {
      "cell_type": "markdown",
      "id": "3c7b2cb4",
      "metadata": {
        "id": "3c7b2cb4"
      },
      "source": [
        "# Load Data"
      ]
    },
    {
      "cell_type": "code",
      "execution_count": 9,
      "id": "3a69a8f5",
      "metadata": {
        "id": "3a69a8f5"
      },
      "outputs": [],
      "source": [
        "movieSchema = StructType([\n",
        "    StructField(\"movie_id\", IntegerType(), True),\n",
        "    StructField(\"movie_title\", StringType(), True),\n",
        "    StructField(\"release_date\", StringType(), True),\n",
        "    StructField(\"video_release_date\", StringType(), True),\n",
        "    StructField(\"imdb_url\", StringType(), True),\n",
        "    StructField(\"unknown\", IntegerType(), True),\n",
        "    StructField(\"action\", IntegerType(), True),\n",
        "    StructField(\"adventure\", IntegerType(), True),\n",
        "    StructField(\"animation\", IntegerType(), True),\n",
        "    StructField(\"children\", IntegerType(), True),\n",
        "    StructField(\"comedy\", IntegerType(), True),\n",
        "    StructField(\"crime\", IntegerType(), True),\n",
        "    StructField(\"documentary\", IntegerType(), True),\n",
        "    StructField(\"drama\", IntegerType(), True),\n",
        "    StructField(\"fantasy\", IntegerType(), True),\n",
        "    StructField(\"film_noir\", IntegerType(), True),\n",
        "    StructField(\"horror\", IntegerType(), True),\n",
        "    StructField(\"musical\", IntegerType(), True),\n",
        "    StructField(\"mystery\", IntegerType(), True),\n",
        "    StructField(\"romance\", IntegerType(), True),\n",
        "    StructField(\"sci_fi\", IntegerType(), True),\n",
        "    StructField(\"thriller\", IntegerType(), True),\n",
        "    StructField(\"war\", IntegerType(), True),\n",
        "    StructField(\"western\", IntegerType(), True),\n",
        "])\n",
        "\n",
        "\n",
        "movie_df = spark.read.format(\"csv\").schema(movieSchema).option(\"delimiter\", \"|\").load(\"u.item\")"
      ]
    },
    {
      "cell_type": "code",
      "execution_count": 10,
      "id": "5ea4c552",
      "metadata": {
        "id": "5ea4c552",
        "colab": {
          "base_uri": "https://localhost:8080/"
        },
        "outputId": "95b17658-665b-4c98-b078-c9fac6aaed22"
      },
      "outputs": [
        {
          "output_type": "stream",
          "name": "stdout",
          "text": [
            "+--------+-----------------+------------+------------------+--------------------+-------+------+---------+---------+--------+------+-----+-----------+-----+-------+---------+------+-------+-------+-------+------+--------+---+-------+\n",
            "|movie_id|      movie_title|release_date|video_release_date|            imdb_url|unknown|action|adventure|animation|children|comedy|crime|documentary|drama|fantasy|film_noir|horror|musical|mystery|romance|sci_fi|thriller|war|western|\n",
            "+--------+-----------------+------------+------------------+--------------------+-------+------+---------+---------+--------+------+-----+-----------+-----+-------+---------+------+-------+-------+-------+------+--------+---+-------+\n",
            "|       1| Toy Story (1995)| 01-Jan-1995|              NULL|http://us.imdb.co...|      0|     0|        0|        1|       1|     1|    0|          0|    0|      0|        0|     0|      0|      0|      0|     0|       0|  0|      0|\n",
            "|       2| GoldenEye (1995)| 01-Jan-1995|              NULL|http://us.imdb.co...|      0|     1|        1|        0|       0|     0|    0|          0|    0|      0|        0|     0|      0|      0|      0|     0|       1|  0|      0|\n",
            "|       3|Four Rooms (1995)| 01-Jan-1995|              NULL|http://us.imdb.co...|      0|     0|        0|        0|       0|     0|    0|          0|    0|      0|        0|     0|      0|      0|      0|     0|       1|  0|      0|\n",
            "|       4|Get Shorty (1995)| 01-Jan-1995|              NULL|http://us.imdb.co...|      0|     1|        0|        0|       0|     1|    0|          0|    1|      0|        0|     0|      0|      0|      0|     0|       0|  0|      0|\n",
            "|       5|   Copycat (1995)| 01-Jan-1995|              NULL|http://us.imdb.co...|      0|     0|        0|        0|       0|     0|    1|          0|    1|      0|        0|     0|      0|      0|      0|     0|       1|  0|      0|\n",
            "+--------+-----------------+------------+------------------+--------------------+-------+------+---------+---------+--------+------+-----+-----------+-----+-------+---------+------+-------+-------+-------+------+--------+---+-------+\n",
            "only showing top 5 rows\n",
            "\n"
          ]
        }
      ],
      "source": [
        "movie_df.show(5)"
      ]
    },
    {
      "cell_type": "markdown",
      "id": "03b1ad29",
      "metadata": {
        "id": "03b1ad29"
      },
      "source": [
        "# Select Features"
      ]
    },
    {
      "cell_type": "code",
      "execution_count": 11,
      "id": "63e0319c",
      "metadata": {
        "id": "63e0319c",
        "colab": {
          "base_uri": "https://localhost:8080/"
        },
        "outputId": "d504dbfc-01b7-4f5d-d49f-027f925688e7"
      },
      "outputs": [
        {
          "output_type": "stream",
          "name": "stdout",
          "text": [
            "+--------+--------------------+\n",
            "|movie_id|              genres|\n",
            "+--------+--------------------+\n",
            "|       1|[0, 0, 0, 1, 1, 1...|\n",
            "|       2|[0, 1, 1, 0, 0, 0...|\n",
            "|       3|[0, 0, 0, 0, 0, 0...|\n",
            "|       4|[0, 1, 0, 0, 0, 1...|\n",
            "|       5|[0, 0, 0, 0, 0, 0...|\n",
            "+--------+--------------------+\n",
            "only showing top 5 rows\n",
            "\n"
          ]
        }
      ],
      "source": [
        "# Make genres from separate columns into a list\n",
        "\n",
        "from pyspark.sql.functions import when, col, array\n",
        "\n",
        "genre_name_list = movie_df.columns[5:]\n",
        "genres_df = movie_df.select(\"movie_id\", array([col(column) for column in genre_name_list]).alias(\"genres\"))\n",
        "genres_df.show(5)"
      ]
    },
    {
      "cell_type": "code",
      "execution_count": 12,
      "id": "4V_FLSozRsfE",
      "metadata": {
        "id": "4V_FLSozRsfE"
      },
      "outputs": [],
      "source": [
        "# Make genres from 0,1 format to its names\n",
        "from pyspark.sql.functions import when, col, array\n",
        "\n",
        "genres_df = movie_df.withColumn(\"genres\", array([when(col(col_name) == 1, col_name).otherwise(None) for col_name in genre_name_list]))\n",
        "genres_df = genres_df.select(\"movie_id\", \"movie_title\", \"genres\")"
      ]
    },
    {
      "cell_type": "code",
      "execution_count": 13,
      "id": "6_GAfa5JTctA",
      "metadata": {
        "id": "6_GAfa5JTctA",
        "colab": {
          "base_uri": "https://localhost:8080/"
        },
        "outputId": "f4606172-7e9e-44bf-8848-d0af54a8a5f6"
      },
      "outputs": [
        {
          "output_type": "stream",
          "name": "stdout",
          "text": [
            "+--------+-----------------+--------------------+\n",
            "|movie_id|      movie_title|              genres|\n",
            "+--------+-----------------+--------------------+\n",
            "|       1| Toy Story (1995)|[NULL, NULL, NULL...|\n",
            "|       2| GoldenEye (1995)|[NULL, action, ad...|\n",
            "|       3|Four Rooms (1995)|[NULL, NULL, NULL...|\n",
            "|       4|Get Shorty (1995)|[NULL, action, NU...|\n",
            "|       5|   Copycat (1995)|[NULL, NULL, NULL...|\n",
            "+--------+-----------------+--------------------+\n",
            "only showing top 5 rows\n",
            "\n"
          ]
        }
      ],
      "source": [
        "genres_df.show(5)"
      ]
    },
    {
      "cell_type": "code",
      "execution_count": 14,
      "id": "00275bd0",
      "metadata": {
        "id": "00275bd0"
      },
      "outputs": [],
      "source": [
        "# Compute similarity scores between movies based on their genres\n",
        "from pyspark.ml.feature import HashingTF, IDF\n",
        "from pyspark.ml.linalg import Vectors\n",
        "from pyspark.ml.feature import VectorAssembler\n",
        "from pyspark.ml.clustering import KMeans"
      ]
    },
    {
      "cell_type": "code",
      "execution_count": 15,
      "id": "78474250",
      "metadata": {
        "id": "78474250"
      },
      "outputs": [],
      "source": [
        "# Convert genres to a feature vector using TF-IDF\n",
        "hashingTF = HashingTF(inputCol=\"genres\", outputCol=\"rawFeatures\", numFeatures=19)\n",
        "idf = IDF(inputCol=\"rawFeatures\", outputCol=\"features\")\n",
        "assembler = VectorAssembler(inputCols=[\"features\"], outputCol=\"feature\")"
      ]
    },
    {
      "cell_type": "code",
      "execution_count": 16,
      "id": "6459ba08",
      "metadata": {
        "id": "6459ba08"
      },
      "outputs": [],
      "source": [
        "genres_df = hashingTF.transform(genres_df)\n",
        "genres_df = idf.fit(genres_df).transform(genres_df)\n",
        "genres_df = assembler.transform(genres_df)"
      ]
    },
    {
      "cell_type": "code",
      "execution_count": 17,
      "id": "86378c59",
      "metadata": {
        "id": "86378c59"
      },
      "outputs": [],
      "source": [
        "# Compute similarity scores between movies based on their feature vectors\n",
        "from pyspark.ml.feature import Normalizer\n",
        "\n",
        "# Normalize the feature vectors\n",
        "normalizer = Normalizer(inputCol=\"feature\", outputCol=\"norm\")\n",
        "genres_df = normalizer.transform(genres_df)"
      ]
    },
    {
      "cell_type": "code",
      "execution_count": 18,
      "id": "xo9I7PY2OxdQ",
      "metadata": {
        "id": "xo9I7PY2OxdQ",
        "colab": {
          "base_uri": "https://localhost:8080/"
        },
        "outputId": "40d73045-0bf1-4a84-8ad3-89b6b058ebb0"
      },
      "outputs": [
        {
          "output_type": "stream",
          "name": "stdout",
          "text": [
            "+--------+-----------------+--------------------+--------------------+--------------------+--------------------+--------------------+\n",
            "|movie_id|      movie_title|              genres|         rawFeatures|            features|             feature|                norm|\n",
            "+--------+-----------------+--------------------+--------------------+--------------------+--------------------+--------------------+\n",
            "|       1| Toy Story (1995)|[NULL, NULL, NULL...|(19,[0,4,12],[2.0...|(19,[0,4,12],[2.1...|(19,[0,12],[2.106...|(19,[0,12],[0.498...|\n",
            "|       2| GoldenEye (1995)|[NULL, action, ad...|(19,[4,8,11,17],[...|(19,[4,8,11,17],[...|(19,[8,11,17],[1....|(19,[8,11,17],[0....|\n",
            "|       3|Four Rooms (1995)|[NULL, NULL, NULL...|(19,[4,11],[18.0,...|(19,[4,11],[0.0,1...|(19,[11],[1.89890...|     (19,[11],[1.0])|\n",
            "|       4|Get Shorty (1995)|[NULL, action, NU...|(19,[0,4,9,17],[1...|(19,[0,4,9,17],[1...|(19,[0,9,17],[1.0...|(19,[0,9,17],[0.5...|\n",
            "|       5|   Copycat (1995)|[NULL, NULL, NULL...|(19,[4,9,11,17],[...|(19,[4,9,11,17],[...|(19,[9,11,17],[0....|(19,[9,11,17],[0....|\n",
            "+--------+-----------------+--------------------+--------------------+--------------------+--------------------+--------------------+\n",
            "only showing top 5 rows\n",
            "\n"
          ]
        }
      ],
      "source": [
        "genres_df.show(5)"
      ]
    },
    {
      "cell_type": "code",
      "execution_count": 19,
      "id": "591eeefc",
      "metadata": {
        "id": "591eeefc",
        "colab": {
          "base_uri": "https://localhost:8080/"
        },
        "outputId": "81a5d487-3049-4463-d210-313ec4f347d2"
      },
      "outputs": [
        {
          "output_type": "execute_result",
          "data": {
            "text/plain": [
              "SparseVector(19, {0: 2.1066, 4: 0.0, 12: 3.6671})"
            ]
          },
          "metadata": {},
          "execution_count": 19
        }
      ],
      "source": [
        "genres_df.select(genres_df.features).where(genres_df.movie_id==1).cache().collect()[0][0]"
      ]
    },
    {
      "cell_type": "code",
      "execution_count": 30,
      "id": "46f2221e",
      "metadata": {
        "id": "46f2221e"
      },
      "outputs": [],
      "source": [
        "rec_movie_id = 420 # Example target movie\n",
        "target_movie = genres_df.filter(f\"movie_id == {rec_movie_id}\").first()"
      ]
    },
    {
      "cell_type": "code",
      "execution_count": 31,
      "id": "e5ae288a",
      "metadata": {
        "id": "e5ae288a",
        "colab": {
          "base_uri": "https://localhost:8080/"
        },
        "outputId": "a4ecc4db-68c8-460a-cf30-263019a591f1"
      },
      "outputs": [
        {
          "output_type": "execute_result",
          "data": {
            "text/plain": [
              "Row(movie_id=420, movie_title='Alice in Wonderland (1951)', genres=[None, None, None, 'animation', 'children', None, None, None, None, None, None, None, 'musical', None, None, None, None, None, None], rawFeatures=SparseVector(19, {0: 1.0, 1: 1.0, 4: 16.0, 12: 1.0}), features=SparseVector(19, {0: 1.0533, 1: 3.3853, 4: 0.0, 12: 3.6671}), feature=SparseVector(19, {0: 1.0533, 1: 3.3853, 12: 3.6671}), norm=SparseVector(19, {0: 0.2065, 1: 0.6637, 12: 0.7189}))"
            ]
          },
          "metadata": {},
          "execution_count": 31
        }
      ],
      "source": [
        "target_movie"
      ]
    },
    {
      "cell_type": "code",
      "execution_count": 32,
      "id": "9IIR4miDGREH",
      "metadata": {
        "id": "9IIR4miDGREH"
      },
      "outputs": [],
      "source": [
        "similarity_scores = genres_df.rdd.map(lambda row: (row[\"movie_id\"], row[\"movie_title\"],float(row[\"norm\"].dot(target_movie[\"norm\"])))).toDF([\"movie_id\", \"movie_title\", \"similarity\"])"
      ]
    },
    {
      "cell_type": "code",
      "execution_count": 39,
      "id": "zAKjpcjcHOtC",
      "metadata": {
        "id": "zAKjpcjcHOtC",
        "colab": {
          "base_uri": "https://localhost:8080/"
        },
        "outputId": "8b34d716-9e48-462a-ab42-cadfecc21ea6"
      },
      "outputs": [
        {
          "output_type": "stream",
          "name": "stdout",
          "text": [
            "+--------+--------------------+------------------+\n",
            "|movie_id|         movie_title|        similarity|\n",
            "+--------+--------------------+------------------+\n",
            "|     418|   Cinderella (1950)|0.9999999999999999|\n",
            "|     624|Three Caballeros,...|0.9999999999999999|\n",
            "|     420|Alice in Wonderla...|0.9999999999999999|\n",
            "|     473|James and the Gia...|0.9999999999999999|\n",
            "|     501|        Dumbo (1941)|0.9999999999999999|\n",
            "|     103|All Dogs Go to He...|0.9999999999999999|\n",
            "|     538|    Anastasia (1997)|0.9999999999999999|\n",
            "|      99|Snow White and th...|0.9999999999999999|\n",
            "|     588|Beauty and the Be...|0.9999999999999999|\n",
            "|     596|Hunchback of Notr...|0.9999999999999999|\n",
            "+--------+--------------------+------------------+\n",
            "only showing top 10 rows\n",
            "\n"
          ]
        }
      ],
      "source": [
        "similarity_scores.orderBy([\"similarity\"], ascending=False).show(10)"
      ]
    },
    {
      "cell_type": "code",
      "execution_count": 41,
      "id": "HsYtkrhiRhK0",
      "metadata": {
        "id": "HsYtkrhiRhK0",
        "colab": {
          "base_uri": "https://localhost:8080/"
        },
        "outputId": "ace99a89-7d7c-4680-9ce3-460be8fbe49c"
      },
      "outputs": [
        {
          "output_type": "execute_result",
          "data": {
            "text/plain": [
              "[Row(movie_id=418, movie_title='Cinderella (1950)', similarity=0.9999999999999999),\n",
              " Row(movie_id=501, movie_title='Dumbo (1941)', similarity=0.9999999999999999),\n",
              " Row(movie_id=420, movie_title='Alice in Wonderland (1951)', similarity=0.9999999999999999),\n",
              " Row(movie_id=99, movie_title='Snow White and the Seven Dwarfs (1937)', similarity=0.9999999999999999),\n",
              " Row(movie_id=432, movie_title='Fantasia (1940)', similarity=0.9999999999999999)]"
            ]
          },
          "metadata": {},
          "execution_count": 41
        }
      ],
      "source": [
        "recs = similarity_scores.orderBy([\"similarity\"], ascending=False).head(5)\n",
        "recs"
      ]
    },
    {
      "cell_type": "code",
      "source": [
        "print(\"Movie: \", target_movie.movie_title)\n",
        "print(\"Recommendations: \")\n",
        "for i in recs:\n",
        "  print(i.movie_title)"
      ],
      "metadata": {
        "colab": {
          "base_uri": "https://localhost:8080/"
        },
        "id": "fKKo6triCF-1",
        "outputId": "720702c6-171e-4f39-9dd0-9dff2c739427"
      },
      "id": "fKKo6triCF-1",
      "execution_count": 43,
      "outputs": [
        {
          "output_type": "stream",
          "name": "stdout",
          "text": [
            "Movie:  Alice in Wonderland (1951)\n",
            "Recommendations: \n",
            "Cinderella (1950)\n",
            "Dumbo (1941)\n",
            "Alice in Wonderland (1951)\n",
            "Snow White and the Seven Dwarfs (1937)\n",
            "Fantasia (1940)\n"
          ]
        }
      ]
    },
    {
      "cell_type": "code",
      "source": [],
      "metadata": {
        "id": "VEDGS1-wDzRb"
      },
      "id": "VEDGS1-wDzRb",
      "execution_count": null,
      "outputs": []
    }
  ],
  "metadata": {
    "colab": {
      "provenance": []
    },
    "kernelspec": {
      "display_name": "Python 3 (ipykernel)",
      "language": "python",
      "name": "python3"
    },
    "language_info": {
      "codemirror_mode": {
        "name": "ipython",
        "version": 3
      },
      "file_extension": ".py",
      "mimetype": "text/x-python",
      "name": "python",
      "nbconvert_exporter": "python",
      "pygments_lexer": "ipython3",
      "version": "3.9.13"
    }
  },
  "nbformat": 4,
  "nbformat_minor": 5
}